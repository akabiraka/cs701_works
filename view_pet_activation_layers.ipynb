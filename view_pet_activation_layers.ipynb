{
 "cells": [
  {
   "cell_type": "code",
   "execution_count": 1,
   "metadata": {},
   "outputs": [],
   "source": [
    "import numpy as np\n",
    "from numpy import array\n",
    "import tensorflow as tf\n",
    "import matplotlib\n",
    "import matplotlib.pyplot as plt\n",
    "import os\n",
    "from scipy import ndimage, misc\n",
    "import math\n",
    "import glob\n",
    "import cv2\n",
    "import sys\n",
    "from PIL import Image\n",
    "import pandas as pd\n",
    "\n",
    "### Load the object detection module, it is mandatory.\n",
    "### From where you run this code this path will be changed by that relative path. This will run smoothly from /my_codes directory\n",
    "sys.path.insert(0, \"../models/research/object_detection\")\n",
    "from object_detection.utils import ops as utils_ops\n",
    "\n",
    "from utils import label_map_util\n",
    "from utils import visualization_utils as vis_util"
   ]
  },
  {
   "cell_type": "code",
   "execution_count": 2,
   "metadata": {},
   "outputs": [
    {
     "name": "stdout",
     "output_type": "stream",
     "text": [
      "WARNING:tensorflow:From <ipython-input-2-e6b40b81a8b3>:55: softmax_cross_entropy_with_logits (from tensorflow.python.ops.nn_ops) is deprecated and will be removed in a future version.\n",
      "Instructions for updating:\n",
      "\n",
      "Future major versions of TensorFlow will allow gradients to flow\n",
      "into the labels input on backprop by default.\n",
      "\n",
      "See `tf.nn.softmax_cross_entropy_with_logits_v2`.\n",
      "\n"
     ]
    }
   ],
   "source": [
    "n_classes = 37\n",
    "x = tf.placeholder(tf.float32, [None, 224, 224, 3])\n",
    "Y_ = tf.placeholder(tf.float32, [None, n_classes])\n",
    "step = tf.placeholder(tf.int32)\n",
    "keep_prob = tf.placeholder(\"float\")\n",
    "\n",
    "first_conv_lyr_depth = 64\n",
    "second_conv_lyr_depth = 128\n",
    "third_conv_lyr_depth = 256\n",
    "forth_conv_lyr_depth = 512\n",
    "fifth_conv_lyr_depth = 512\n",
    "N = 4096\n",
    "\n",
    "w1 = tf.Variable(tf.truncated_normal([3, 3, 3, first_conv_lyr_depth], stddev=0.1))\n",
    "b1 = tf.Variable(tf.ones([first_conv_lyr_depth])/10)\n",
    "w2 = tf.Variable(tf.truncated_normal([3, 3, first_conv_lyr_depth, second_conv_lyr_depth], stddev=0.1))\n",
    "b2 = tf.Variable(tf.ones([second_conv_lyr_depth])/10)\n",
    "w3 = tf.Variable(tf.truncated_normal([3, 3, second_conv_lyr_depth, third_conv_lyr_depth], stddev=0.1))\n",
    "b3 = tf.Variable(tf.ones([third_conv_lyr_depth])/10)\n",
    "w4 = tf.Variable(tf.truncated_normal([3, 3, third_conv_lyr_depth, forth_conv_lyr_depth], stddev=0.1))\n",
    "b4 = tf.Variable(tf.ones([forth_conv_lyr_depth])/10)\n",
    "w5 = tf.Variable(tf.truncated_normal([3, 3, forth_conv_lyr_depth, fifth_conv_lyr_depth], stddev=0.1))\n",
    "b5 = tf.Variable(tf.ones([fifth_conv_lyr_depth])/10)\n",
    "w6 = tf.Variable(tf.truncated_normal([7 * 7 * fifth_conv_lyr_depth, N], stddev=0.1))\n",
    "b6 = tf.Variable(tf.ones([N])/10)\n",
    "w7 = tf.Variable(tf.truncated_normal([N, n_classes], stddev=0.1))\n",
    "b7 = tf.Variable(tf.ones([n_classes])/10)\n",
    "\n",
    "stride = 1\n",
    "pooling_stride = 2 \n",
    "pooling_kernel = [2, 2]\n",
    "y1 = tf.nn.relu(tf.nn.conv2d(x, w1, strides=[1, stride, stride, 1], padding='SAME') + b1)\n",
    "\n",
    "pool_1 = tf.layers.max_pooling2d(y1, pooling_kernel, pooling_stride)\n",
    "y2 = tf.nn.relu(tf.nn.conv2d(pool_1, w2, strides=[1, stride, stride, 1], padding='SAME') + b2)\n",
    "\n",
    "pool_2 = tf.layers.max_pooling2d(y2, pooling_kernel, pooling_stride)\n",
    "y3 = tf.nn.relu(tf.nn.conv2d(pool_2, w3, strides=[1, stride, stride, 1], padding='SAME') + b3)\n",
    "\n",
    "pool_3 = tf.layers.max_pooling2d(y3, pooling_kernel, pooling_stride)\n",
    "y4 = tf.nn.relu(tf.nn.conv2d(pool_3, w4, strides=[1, stride, stride, 1], padding='SAME') + b4)\n",
    "\n",
    "pool_4 = tf.layers.max_pooling2d(y4, pooling_kernel, pooling_stride)\n",
    "y5 = tf.nn.relu(tf.nn.conv2d(pool_4, w5, strides=[1, stride, stride, 1], padding='SAME') + b5)\n",
    "\n",
    "pool_5 = tf.layers.max_pooling2d(y5, pooling_kernel, pooling_stride)\n",
    "y6 = tf.layers.dense(pool_5, units=512, activation=tf.nn.relu)\n",
    "\n",
    "yy = tf.reshape(y6, shape=[-1, 7 * 7 * 512])\n",
    "fc1 = tf.nn.relu(tf.matmul(yy, w6) + b6)\n",
    "\n",
    "Ylogits = tf.matmul(fc1, w7) + b7\n",
    "Y = tf.nn.softmax(Ylogits)\n",
    "\n",
    "cross_entropy = tf.nn.softmax_cross_entropy_with_logits(logits=Ylogits, labels=Y_)\n",
    "cross_entropy = tf.reduce_mean(cross_entropy)*100\n",
    "\n",
    "correct_prediction = tf.equal(tf.argmax(Y, 1), tf.argmax(Y_, 1))\n",
    "accuracy = tf.reduce_mean(tf.cast(correct_prediction, tf.float32))\n",
    "\n",
    "lr = 0.01 +  tf.train.exponential_decay(0.03, step, 2000, 1/math.e)\n",
    "train_step = tf.train.AdamOptimizer(lr).minimize(cross_entropy)"
   ]
  },
  {
   "cell_type": "code",
   "execution_count": 3,
   "metadata": {},
   "outputs": [],
   "source": [
    "def getActivations(layer, all_images, sess):\n",
    "    units = sess.run(layer, feed_dict={x:array(all_images).reshape(all_images.shape), keep_prob:1.0}) \n",
    "    #all_images = size(all_images)x224x224x3\n",
    "    #plotNNFilter(units)\n",
    "    return units"
   ]
  },
  {
   "cell_type": "code",
   "execution_count": 4,
   "metadata": {},
   "outputs": [],
   "source": [
    "def train (sess, train_images, train_labels_one_hot, steps_for_each_set):\n",
    "    for i in range(steps_for_each_set):\n",
    "        train_data = {x: train_images, Y_: train_labels_one_hot, step: i}\n",
    "        sess.run(train_step, feed_dict=train_data)\n",
    "        a, c, l = sess.run([accuracy, cross_entropy, lr], feed_dict=train_data)\n",
    "        print(str(i) + \": accuracy:\" + str(a) + \" loss: \" + str(c) + \" (lr:\" + str(l) + \")\")"
   ]
  },
  {
   "cell_type": "code",
   "execution_count": 5,
   "metadata": {},
   "outputs": [],
   "source": [
    "def plotNNFilter(units):\n",
    "    filters = units.shape[3]\n",
    "    print(filters)\n",
    "    plt.figure(1, figsize=(20, 20))\n",
    "    n_columns = 8\n",
    "    n_rows = math.ceil(filters / n_columns) + 1\n",
    "    for i in range(filters):\n",
    "        #plt.subplot(n_rows, n_columns, i+1)\n",
    "        #plt.title('Filter ' + str(i))\n",
    "        plt.imshow(units[0,:,:,i])\n",
    "        print(array(units[0,:,:,i]).shape)\n",
    "        plt.savefig(\"feature_map_output/feature_map_\" + str(i) + \".jpg\")\n",
    "    #plt.show()"
   ]
  },
  {
   "cell_type": "code",
   "execution_count": 6,
   "metadata": {},
   "outputs": [],
   "source": [
    "def get_image_label_indexs (category_index, image_paths):\n",
    "    y_label_id = []\n",
    "    y_label_name = []\n",
    "    for image_path in image_paths:\n",
    "        actual_class_name = os.path.basename(image_path).rsplit('_', 1)[0]\n",
    "        for i in category_index.keys():\n",
    "            if category_index[i]['name'] == actual_class_name:\n",
    "                y_label_id.append(category_index[i]['id'])\n",
    "                y_label_name.append(category_index[i]['name'])\n",
    "    return y_label_id, y_label_name"
   ]
  },
  {
   "cell_type": "code",
   "execution_count": 31,
   "metadata": {},
   "outputs": [],
   "source": [
    "def get_data_and_label (images_path):\n",
    "    MODEL_NAME = 'downloaded_models/resnet101_pet_aneeq_additional_model'\n",
    "    PATH_TO_LABELS = MODEL_NAME + '/pet_label_map.pbtxt'\n",
    "    PATH_TO_TEST_IMAGES_DIR = images_path\n",
    "    IMAGE_PATHS = glob.glob(PATH_TO_TEST_IMAGES_DIR+\"/*.jpg\")\n",
    "\n",
    "    x_data = np.array([np.array(Image.open(IMAGE_PATHS[i]).resize((224, 224), Image.ANTIALIAS)) \n",
    "                       for i in range(len(IMAGE_PATHS))])\n",
    "    x_data = x_data\n",
    "    print(x_data.shape)\n",
    "    \n",
    "\n",
    "    category_index = label_map_util.create_category_index_from_labelmap(PATH_TO_LABELS, use_display_name=True)\n",
    "    y_label_ids, y_label_names = get_image_label_indexs (category_index, IMAGE_PATHS)\n",
    "    print(y_label_ids)\n",
    "    ids = pd.Series(y_label_ids)\n",
    "    y_label_one_hot = pd.get_dummies(ids)\n",
    "    print(y_label_one_hot.shape)\n",
    "    #print(y_label_names)\n",
    "    \n",
    "    return x_data, y_label_ids, y_label_one_hot, y_label_names, category_index"
   ]
  },
  {
   "cell_type": "code",
   "execution_count": 8,
   "metadata": {},
   "outputs": [],
   "source": [
    "sess = tf.Session()\n",
    "init = tf.global_variables_initializer()\n",
    "sess.run(init)"
   ]
  },
  {
   "cell_type": "code",
   "execution_count": 85,
   "metadata": {},
   "outputs": [
    {
     "name": "stdout",
     "output_type": "stream",
     "text": [
      "(8, 224, 224, 3)\n",
      "[1, 1, 2, 2, 5, 8, 8, 5]\n",
      "(8, 4)\n"
     ]
    }
   ],
   "source": [
    "x_data, y_label_ids, y_label_one_hot, y_label_names, category_index = get_data_and_label(\"train_images\")\n",
    "x_data = x_data / 255.0"
   ]
  },
  {
   "cell_type": "code",
   "execution_count": null,
   "metadata": {},
   "outputs": [],
   "source": [
    "steps = 10\n",
    "train (sess, x_data, y_label_one_hot, steps)"
   ]
  },
  {
   "cell_type": "code",
   "execution_count": 86,
   "metadata": {},
   "outputs": [
    {
     "name": "stdout",
     "output_type": "stream",
     "text": [
      "(8, 4096)\n"
     ]
    }
   ],
   "source": [
    "features = getActivations(fc1, x_data, sess)\n",
    "print(features.shape)"
   ]
  },
  {
   "cell_type": "code",
   "execution_count": 87,
   "metadata": {},
   "outputs": [
    {
     "name": "stdout",
     "output_type": "stream",
     "text": [
      "4096\n",
      "(4, 4096)\n",
      "(4, 4096)\n"
     ]
    }
   ],
   "source": [
    "feat_cols = [ 'pixel'+str(i) for i in range(features.shape[1]) ]\n",
    "print(len(feat_cols))\n",
    "\n",
    "df = pd.DataFrame(features, columns=feat_cols)\n",
    "df['label'] = y_label_ids\n",
    "df['label'] = df['label'].apply(lambda i: str(i))\n",
    "df['label_name'] = y_label_names\n",
    "df['label_name'] = df['label_name'].apply(lambda i: str(i))\n",
    "df_prototypes = df.groupby(['label','label_name'], as_index=False).mean()\n",
    "df_prototypes_label_id = df_prototypes['label']\n",
    "df_prototypes_label_name = df_prototypes['label_name']\n",
    "df_prototypes = df.groupby(['label','label_name']).mean()\n",
    "df = df_prototypes\n",
    "print(df.shape)\n",
    "print(df_prototypes.shape)"
   ]
  },
  {
   "cell_type": "code",
   "execution_count": 121,
   "metadata": {},
   "outputs": [
    {
     "name": "stdout",
     "output_type": "stream",
     "text": [
      "(8, 224, 224, 3)\n",
      "[1, 1, 2, 2, 5, 5, 8, 8]\n",
      "(8, 4)\n"
     ]
    },
    {
     "data": {
      "text/plain": [
       "array([[-0.40960063, -0.47235066, -0.32991984, -0.47858431],\n",
       "       [-0.99265223, -0.59771421, -0.79335704, -0.69195624],\n",
       "       [-0.64514226, -0.49703039, -0.5362196 , -0.50854536],\n",
       "       [-0.77979423, -0.56067476, -0.61530927, -0.6557519 ],\n",
       "       [-0.58147416, -0.47151525, -0.43553487, -0.50433255],\n",
       "       [-0.5114389 , -0.58322071, -0.43264885, -0.60063868],\n",
       "       [-1.30166791, -0.970293  , -1.08028841, -0.95903052],\n",
       "       [-0.64541873, -0.54382937, -0.53060189, -0.51205402]])"
      ]
     },
     "execution_count": 121,
     "metadata": {},
     "output_type": "execute_result"
    }
   ],
   "source": [
    "import scipy\n",
    "x_data, y_label_ids, y_label_one_hot, y_label_names, category_index = get_data_and_label('validation_images')\n",
    "x_data = x_data / 255.0\n",
    "features = getActivations(fc1, x_data, sess)\n",
    "feat_cols = [ 'pixel'+str(i) for i in range(features.shape[1]) ]\n",
    "#print(len(feat_cols))\n",
    "\n",
    "df_validation = pd.DataFrame(features, columns=feat_cols)\n",
    "#print(df_validation.shape)\n",
    "arr = -scipy.spatial.distance.cdist(df_validation.iloc[:,1:], df_prototypes.iloc[:,1:], metric='euclidean')\n",
    "arr = arr / 1000\n",
    "arr_x = np.exp(arr)\n",
    "total_dist = np.log(np.sum(arr_x, axis=1))\n",
    "#print(arr)\n",
    "for i in range(len(arr)):\n",
    "    #print(total_dist[i])\n",
    "    #print(arr[i])\n",
    "    #print(arr[i]+total_dist[i])\n",
    "    arr[i] = arr[i] + total_dist[i]\n",
    "arr / (2*2)\n",
    "    "
   ]
  },
  {
   "cell_type": "code",
   "execution_count": 26,
   "metadata": {},
   "outputs": [],
   "source": [
    "rndperm = np.random.permutation(df.shape[0])"
   ]
  },
  {
   "cell_type": "code",
   "execution_count": null,
   "metadata": {},
   "outputs": [],
   "source": [
    "%matplotlib inline\n",
    "import matplotlib.pyplot as plt\n",
    "\n",
    "\n",
    "# Plot the graph\n",
    "plt.gray()\n",
    "fig = plt.figure( figsize=(16,7) )\n",
    "for i in range(0,4):\n",
    "    ax = fig.add_subplot(3,10,i+1, title='Digit: ' + str(df.loc[rndperm[i],'label']) )\n",
    "    ax.matshow(df.loc[rndperm[i],feat_cols].values.reshape((64, 64)).astype(float))\n",
    "\n",
    "plt.show()"
   ]
  },
  {
   "cell_type": "code",
   "execution_count": 28,
   "metadata": {},
   "outputs": [
    {
     "name": "stdout",
     "output_type": "stream",
     "text": [
      "[t-SNE] Computing 3 nearest neighbors...\n",
      "[t-SNE] Indexed 4 samples in 0.000s...\n",
      "[t-SNE] Computed neighbors for 4 samples in 0.001s...\n",
      "[t-SNE] Computed conditional probabilities for sample 4 / 4\n",
      "[t-SNE] Mean sigma: 1125899906842624.000000\n",
      "[t-SNE] KL divergence after 250 iterations with early exaggeration: 39.260231\n",
      "[t-SNE] KL divergence after 300 iterations: 0.056896\n",
      "t-SNE done! Time elapsed: 0.06365585327148438 seconds\n"
     ]
    }
   ],
   "source": [
    "import time\n",
    "\n",
    "from sklearn.manifold import TSNE\n",
    "\n",
    "n_sne = 7000\n",
    "\n",
    "time_start = time.time()\n",
    "tsne = TSNE(n_components=2, verbose=1, perplexity=40, n_iter=300)\n",
    "tsne_results = tsne.fit_transform(df.loc[rndperm[:n_sne],feat_cols].values)\n",
    "\n",
    "\n",
    "print('t-SNE done! Time elapsed: {} seconds'.format(time.time()-time_start))"
   ]
  },
  {
   "cell_type": "code",
   "execution_count": 29,
   "metadata": {},
   "outputs": [
    {
     "name": "stderr",
     "output_type": "stream",
     "text": [
      "'c' argument looks like a single numeric RGB or RGBA sequence, which should be avoided as value-mapping will have precedence in case its length matches with 'x' & 'y'.  Please use a 2-D array with a single row if you really want to specify the same RGB or RGBA value for all points.\n",
      "'c' argument looks like a single numeric RGB or RGBA sequence, which should be avoided as value-mapping will have precedence in case its length matches with 'x' & 'y'.  Please use a 2-D array with a single row if you really want to specify the same RGB or RGBA value for all points.\n",
      "'c' argument looks like a single numeric RGB or RGBA sequence, which should be avoided as value-mapping will have precedence in case its length matches with 'x' & 'y'.  Please use a 2-D array with a single row if you really want to specify the same RGB or RGBA value for all points.\n",
      "'c' argument looks like a single numeric RGB or RGBA sequence, which should be avoided as value-mapping will have precedence in case its length matches with 'x' & 'y'.  Please use a 2-D array with a single row if you really want to specify the same RGB or RGBA value for all points.\n"
     ]
    },
    {
     "data": {
      "image/png": "[encoded data removed]",
      "text/plain": [
       "<Figure size 792x576 with 1 Axes>"
      ]
     },
     "metadata": {},
     "output_type": "display_data"
    },
    {
     "data": {
      "text/plain": [
       "<ggplot: (-9223363279225733197)>"
      ]
     },
     "execution_count": 29,
     "metadata": {},
     "output_type": "execute_result"
    }
   ],
   "source": [
    "from ggplot import *\n",
    "\n",
    "df_tsne = df.loc[rndperm[:n_sne],:].copy()\n",
    "df_tsne['x-tsne'] = tsne_results[:,0]\n",
    "df_tsne['y-tsne'] = tsne_results[:,1]\n",
    "\n",
    "chart = ggplot( df_tsne, aes(x='x-tsne', y='y-tsne', color='label_name' )) \\\n",
    "        + geom_point(size=20,alpha=0.8) \\\n",
    "        + ggtitle(\"t-SNE Visalization of Raw Data\") \n",
    "chart"
   ]
  },
  {
   "cell_type": "code",
   "execution_count": null,
   "metadata": {},
   "outputs": [],
   "source": []
  }
 ],
 "metadata": {
  "kernelspec": {
   "display_name": "Python 3",
   "language": "python",
   "name": "python3"
  },
  "language_info": {
   "codemirror_mode": {
    "name": "ipython",
    "version": 3
   },
   "file_extension": ".py",
   "mimetype": "text/x-python",
   "name": "python",
   "nbconvert_exporter": "python",
   "pygments_lexer": "ipython3",
   "version": "3.6.7"
  }
 },
 "nbformat": 4,
 "nbformat_minor": 2
}
