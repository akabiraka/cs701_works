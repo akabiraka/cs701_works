{
 "cells": [
  {
   "cell_type": "code",
   "execution_count": 5,
   "metadata": {},
   "outputs": [
    {
     "name": "stdout",
     "output_type": "stream",
     "text": [
      "alhumdulillah\n",
      "sucess\n",
      "sucess\n",
      "sucess\n",
      "sucess\n",
      "sucess\n",
      "sucess\n",
      "sucess\n",
      "sucess\n",
      "sucess\n",
      "sucess\n",
      "sucess\n",
      "sucess\n",
      "sucess\n",
      "sucess\n",
      "sucess\n",
      "sucess\n",
      "sucess\n",
      "sucess\n",
      "sucess\n",
      "sucess\n",
      "sucess\n",
      "sucess\n",
      "sucess\n",
      "sucess\n",
      "sucess\n",
      "sucess\n",
      "sucess\n",
      "sucess\n",
      "sucess\n",
      "sucess\n",
      "sucess\n",
      "sucess\n",
      "sucess\n",
      "sucess\n",
      "sucess\n",
      "sucess\n",
      "sucess\n"
     ]
    }
   ],
   "source": [
    "import random\n",
    "import subprocess\n",
    "import os\n",
    "\n",
    "print(\"alhumdulillah\")\n",
    "class_names = ['Abyssinian', 'american_bulldog', 'american_pit_bull_terrier', 'basset_hound', \\\n",
    "        'beagle', 'Bengal', 'Birman', 'Bombay', 'boxer', 'British_Shorthair', 'chihuahua', 'Egyptian_Mau', 'english_cocker_spaniel', \\\n",
    "        'english_setter', 'german_shorthaired', 'great_pyrenees', 'havanese', 'japanese_chin', 'keeshond', 'leonberger', 'Maine_Coon', \\\n",
    "        'miniature_pinscher', 'newfoundland', 'Persian', 'pomeranian', 'pug', 'Ragdoll', 'Russian_Blue', 'saint_bernard', 'samoyed', \\\n",
    "        'scottish_terrier', 'shiba_inu', 'Siamese', 'Sphynx', 'staffordshire_bull_terrier', 'wheaten_terrier', 'yorkshire_terrier']\n",
    "\n",
    "def runCommand(command):\n",
    "   return subprocess.getoutput(command)\n",
    "\n",
    "def copy_img_annotation_randomly (num_of_images, class_name, img_input_dir, img_output_dir, annotation_input_dir, annotation_output_dir):\n",
    "    \"this function create random image names, copy from input_dir, \\\n",
    "    and paste into output_dir\"\n",
    "    i=0\n",
    "    while i < num_of_images:\n",
    "        image_name = class_name + '_' + str(random.randint(1, 190))\n",
    "        image_path = img_input_dir + image_name + \".jpg\"\n",
    "        img_exists = os.path.isfile(image_path)\n",
    "        annotation_path = annotation_input_dir + image_name + \".xml\"\n",
    "        annotation_exists = os.path.isfile(annotation_path)\n",
    "        if img_exists and annotation_exists:\n",
    "            runCommand(\"cp \" + image_path + \" \" + img_output_dir)  # copy image to destination\n",
    "            runCommand(\"cp \" + annotation_path + \" \" + annotation_output_dir) # copy annotation to destination\n",
    "            i=i+1\n",
    "    print(\"sucess\")\n",
    "       \n",
    "\n",
    "\n",
    "\n",
    "num_of_images = 2 \n",
    "img_input_dir = \"../../datasets/pet/real_data/images/\"\n",
    "img_output_dir = \"x_test_images/\"\n",
    "annotation_input_dir = \"../../datasets/pet/real_data/annotations/xmls/\"\n",
    "annotation_output_dir = \"test_annotations/\"\n",
    "for class_ in class_names:\n",
    "    copy_img_annotation_randomly(num_of_images, class_, img_input_dir, img_output_dir, annotation_input_dir, annotation_output_dir)\n"
   ]
  },
  {
   "cell_type": "code",
   "execution_count": null,
   "metadata": {},
   "outputs": [],
   "source": []
  },
  {
   "cell_type": "code",
   "execution_count": null,
   "metadata": {},
   "outputs": [],
   "source": []
  }
 ],
 "metadata": {
  "kernelspec": {
   "display_name": "Python 3",
   "language": "python",
   "name": "python3"
  },
  "language_info": {
   "codemirror_mode": {
    "name": "ipython",
    "version": 3
   },
   "file_extension": ".py",
   "mimetype": "text/x-python",
   "name": "python",
   "nbconvert_exporter": "python",
   "pygments_lexer": "ipython3",
   "version": "3.6.7"
  }
 },
 "nbformat": 4,
 "nbformat_minor": 2
}
